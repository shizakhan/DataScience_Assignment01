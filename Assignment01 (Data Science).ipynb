{
 "cells": [
  {
   "cell_type": "markdown",
   "metadata": {},
   "source": [
    "# JAVAN PAKISTAN\n",
    "DATA SCIENCE COURSE\n",
    "ASSIGNMENT 01\n",
    "SHIZA KHAN"
   ]
  },
  {
   "cell_type": "code",
   "execution_count": 1,
   "metadata": {},
   "outputs": [
    {
     "name": "stdout",
     "output_type": "stream",
     "text": [
      "Twinkle,twinkle,little star, \n",
      "\tHow i wonder what you are! \n",
      "\t\tUp above the world so high, \n",
      "\t\tLike a diamond in the sky. \n",
      "Twinkle,twinkle,little star, \n",
      "\tHow i wonder what you are!\n"
     ]
    }
   ],
   "source": [
    "#Question 01\n",
    "#writing a python program for printing a specific format\n",
    "print(\"Twinkle,twinkle,little star, \\n\\tHow i wonder what you are! \\n\\t\\tUp above the world so high, \\n\\t\\tLike a diamond in the sky. \\nTwinkle,twinkle,little star, \\n\\tHow i wonder what you are!\")"
   ]
  },
  {
   "cell_type": "code",
   "execution_count": 2,
   "metadata": {},
   "outputs": [
    {
     "name": "stdout",
     "output_type": "stream",
     "text": [
      "3.8.5\n"
     ]
    }
   ],
   "source": [
    "#Question 02\n",
    "#writing python programme to print the python version\n",
    "from platform import python_version\n",
    "\n",
    "print(python_version())"
   ]
  },
  {
   "cell_type": "code",
   "execution_count": 3,
   "metadata": {},
   "outputs": [
    {
     "data": {
      "text/plain": [
       "'Sunday Jan/02/22 12 :36 AM'"
      ]
     },
     "execution_count": 3,
     "metadata": {},
     "output_type": "execute_result"
    }
   ],
   "source": [
    "#Question 03\n",
    "#Writing a python programme to print current date and time\n",
    "import time\n",
    "time.strftime('%A %b/%d/%y %I :%M %p', time.localtime())"
   ]
  },
  {
   "cell_type": "code",
   "execution_count": 4,
   "metadata": {},
   "outputs": [
    {
     "name": "stdout",
     "output_type": "stream",
     "text": [
      "Enter radius: 4\n",
      "The area of a circle is: 50.26548245743669\n"
     ]
    }
   ],
   "source": [
    "#Question 04\n",
    "#taking radius as an input from the user and computing the area of a circle\n",
    "import math\n",
    "radius = eval(input(\"Enter radius: \"))\n",
    "Area_of_circle = math.pi * radius**2\n",
    "print(\"The area of a circle is: \" + str(Area_of_circle))"
   ]
  },
  {
   "cell_type": "code",
   "execution_count": 5,
   "metadata": {},
   "outputs": [
    {
     "name": "stdout",
     "output_type": "stream",
     "text": [
      "Enter your first name: SHIZA  \n",
      "Enter your last name: KHAN\n",
      "KHAN SHIZA  \n"
     ]
    }
   ],
   "source": [
    "#Question 05\n",
    "#writing a program that accepts the user first and last name and print them in reverse order with space between them\n",
    "fname = input(\"Enter your first name: \")\n",
    "lname = input(\"Enter your last name: \")\n",
    "print (lname + \" \" + fname)"
   ]
  },
  {
   "cell_type": "code",
   "execution_count": 6,
   "metadata": {},
   "outputs": [
    {
     "name": "stdout",
     "output_type": "stream",
     "text": [
      "Enter number 1: 4\n",
      "Enter number 2: 5\n",
      "9\n"
     ]
    }
   ],
   "source": [
    "#Question 06\n",
    "#Writing a python program that take 2 inputs from user and print them addition\n",
    "num1 = eval(input(\"Enter number 1: \"))\n",
    "num2 = eval(input(\"Enter number 2: \"))\n",
    "print(num1 + num2)"
   ]
  },
  {
   "cell_type": "code",
   "execution_count": null,
   "metadata": {},
   "outputs": [],
   "source": []
  }
 ],
 "metadata": {
  "kernelspec": {
   "display_name": "Python 3",
   "language": "python",
   "name": "python3"
  },
  "language_info": {
   "codemirror_mode": {
    "name": "ipython",
    "version": 3
   },
   "file_extension": ".py",
   "mimetype": "text/x-python",
   "name": "python",
   "nbconvert_exporter": "python",
   "pygments_lexer": "ipython3",
   "version": "3.8.5"
  }
 },
 "nbformat": 4,
 "nbformat_minor": 4
}
